{
 "cells": [
  {
   "cell_type": "code",
   "execution_count": 1,
   "metadata": {
    "metadata": {}
   },
   "outputs": [
    {
     "name": "stdout",
     "output_type": "stream",
     "text": [
      "30\n"
     ]
    }
   ],
   "source": [
    "def add(a,b):\n",
    "    return a+b\n",
    "print(add(10,20))"
   ]
  },
  {
   "cell_type": "markdown",
   "metadata": {},
   "source": [
    "Parametrized Arguments"
   ]
  },
  {
   "cell_type": "code",
   "execution_count": 1,
   "metadata": {},
   "outputs": [
    {
     "name": "stdout",
     "output_type": "stream",
     "text": [
      "30\n"
     ]
    }
   ],
   "source": [
    "def add(a,b):\n",
    "    return a+b\n",
    "s = 10\n",
    "d = 20\n",
    "print(add(s,d))"
   ]
  },
  {
   "cell_type": "markdown",
   "metadata": {},
   "source": [
    "Minimum number in the list"
   ]
  },
  {
   "cell_type": "code",
   "execution_count": 3,
   "metadata": {},
   "outputs": [
    {
     "data": {
      "text/plain": [
       "0"
      ]
     },
     "execution_count": 3,
     "metadata": {},
     "output_type": "execute_result"
    }
   ],
   "source": [
    "a = [1,12,23,34,45,456,0]\n",
    "min(a)"
   ]
  },
  {
   "cell_type": "markdown",
   "metadata": {},
   "source": [
    "Write a python program to find the max number in the list"
   ]
  },
  {
   "cell_type": "code",
   "execution_count": 4,
   "metadata": {},
   "outputs": [
    {
     "name": "stdout",
     "output_type": "stream",
     "text": [
      "The max element is :  67\n"
     ]
    }
   ],
   "source": [
    "def max_number(a):\n",
    "    max = a[0]\n",
    "    for element in a:\n",
    "        if element > max:\n",
    "            max = element\n",
    "    return max\n",
    "\n",
    "a = [1,23,34,45,67,8]\n",
    "print(\"The max element is : \",max_number(a))"
   ]
  },
  {
   "cell_type": "markdown",
   "metadata": {},
   "source": [
    "Write a python to find the minimum number from the list "
   ]
  },
  {
   "cell_type": "code",
   "execution_count": 5,
   "metadata": {},
   "outputs": [
    {
     "name": "stdout",
     "output_type": "stream",
     "text": [
      "The minimum number from the list is :  0\n"
     ]
    }
   ],
   "source": [
    "def min_number(a):\n",
    "    min = a[0]\n",
    "    for element in a:\n",
    "        if element < min:\n",
    "            min = element\n",
    "    return min\n",
    "\n",
    "a = [0,1,23,344,55,67]\n",
    "print(\"The minimum number from the list is : \",min_number(a))"
   ]
  },
  {
   "cell_type": "markdown",
   "metadata": {},
   "source": [
    "Write a python program to print second maximum number using function"
   ]
  },
  {
   "cell_type": "code",
   "execution_count": 1,
   "metadata": {},
   "outputs": [
    {
     "name": "stdout",
     "output_type": "stream",
     "text": [
      "THe second maximum number from the list is :  45\n"
     ]
    }
   ],
   "source": [
    "def second_maximum(a):\n",
    "    max = a[0]\n",
    "    second_max = a[0]\n",
    "    for element in a:\n",
    "        if element > max:\n",
    "            second_max = max\n",
    "            max = element\n",
    "        elif(element > second_max and element != max):\n",
    "            second_max = element\n",
    "    return second_max\n",
    "\n",
    "a = [1,23,34,45,67,8]\n",
    "print(\"THe second maximum number from the list is : \",second_maximum(a))"
   ]
  },
  {
   "cell_type": "markdown",
   "metadata": {},
   "source": [
    "Second minimum number from the list"
   ]
  },
  {
   "cell_type": "code",
   "execution_count": 6,
   "metadata": {},
   "outputs": [
    {
     "name": "stdout",
     "output_type": "stream",
     "text": [
      "The second minimum number in the list is :  8\n"
     ]
    }
   ],
   "source": [
    "def second_min(a):\n",
    "    min = float('inf')\n",
    "    secondmin = float('inf')\n",
    "    for i in a:\n",
    "        if i<min:\n",
    "            secondmin = min\n",
    "            min = i\n",
    "        elif (i<secondmin and i>min):\n",
    "            secondmin = i\n",
    "    return secondmin\n",
    "\n",
    "a = [1,23,34,45,67,8]\n",
    "print(\"The second minimum number in the list is : \",second_min(a))"
   ]
  },
  {
   "cell_type": "markdown",
   "metadata": {},
   "source": [
    "LAMBDA FUNCTION"
   ]
  },
  {
   "cell_type": "code",
   "execution_count": 7,
   "metadata": {},
   "outputs": [
    {
     "name": "stdout",
     "output_type": "stream",
     "text": [
      "400\n"
     ]
    }
   ],
   "source": [
    "a = lambda s:s**2\n",
    "print(a(20))"
   ]
  },
  {
   "cell_type": "code",
   "execution_count": 8,
   "metadata": {},
   "outputs": [
    {
     "name": "stdout",
     "output_type": "stream",
     "text": [
      "60\n"
     ]
    }
   ],
   "source": [
    "a = lambda s,d:s*d\n",
    "print(a(20,3))"
   ]
  },
  {
   "cell_type": "markdown",
   "metadata": {},
   "source": [
    "Using lambda expression to preform addition"
   ]
  },
  {
   "cell_type": "code",
   "execution_count": 9,
   "metadata": {},
   "outputs": [
    {
     "name": "stdout",
     "output_type": "stream",
     "text": [
      "70\n"
     ]
    }
   ],
   "source": [
    "def add(s):\n",
    "    return lambda a:a+s\n",
    "v = add(20)     #s=20\n",
    "print(v(50))    #a=50"
   ]
  }
 ],
 "metadata": {
  "kernelspec": {
   "display_name": "Python 3",
   "language": "python",
   "name": "python3"
  },
  "language_info": {
   "codemirror_mode": {
    "name": "ipython",
    "version": 3
   },
   "file_extension": ".py",
   "mimetype": "text/x-python",
   "name": "python",
   "nbconvert_exporter": "python",
   "pygments_lexer": "ipython3",
   "version": "3.10.13"
  }
 },
 "nbformat": 4,
 "nbformat_minor": 2
}
