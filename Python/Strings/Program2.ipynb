{
 "cells": [
  {
   "cell_type": "code",
   "execution_count": 6,
   "metadata": {},
   "outputs": [
    {
     "name": "stdout",
     "output_type": "stream",
     "text": [
      "Python\n",
      "Java\n",
      "C++\n",
      "Python is a 'high-level' programming language\n",
      "Python is a \"high-level\" programming language\n"
     ]
    }
   ],
   "source": [
    "# How to write a paragraph in Python under strings\n",
    "a = \"\"\"Python\n",
    "Java\n",
    "C++\"\"\"\n",
    "print(a)\n",
    "\n",
    "\n",
    "b = \"Python is a 'high-level' programming language\"\n",
    "print(b)\n",
    "\n",
    "\n",
    "d = \"Python is a \\\"high-level\\\" programming language\"\n",
    "print(d)"
   ]
  },
  {
   "cell_type": "code",
   "execution_count": 7,
   "metadata": {},
   "outputs": [
    {
     "name": "stdout",
     "output_type": "stream",
     "text": [
      "H\n",
      "Hel\n",
      "Hello\n"
     ]
    }
   ],
   "source": [
    "x = \"Hello\"\n",
    "print(x[0])\n",
    "print(x[0:3])\n",
    "print(x[:5])"
   ]
  },
  {
   "cell_type": "code",
   "execution_count": 1,
   "metadata": {},
   "outputs": [
    {
     "name": "stdout",
     "output_type": "stream",
     "text": [
      "False\n"
     ]
    }
   ],
   "source": [
    "\"\"\" Checking if 2 strings are same based on ASCII values of it\"\"\"\n",
    "a = \"Raam\"\n",
    "b = \"raam\"\n",
    "print((a==b))"
   ]
  }
 ],
 "metadata": {
  "kernelspec": {
   "display_name": "Python 3",
   "language": "python",
   "name": "python3"
  },
  "language_info": {
   "codemirror_mode": {
    "name": "ipython",
    "version": 3
   },
   "file_extension": ".py",
   "mimetype": "text/x-python",
   "name": "python",
   "nbconvert_exporter": "python",
   "pygments_lexer": "ipython3",
   "version": "3.10.13"
  }
 },
 "nbformat": 4,
 "nbformat_minor": 2
}
