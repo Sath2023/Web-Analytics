{
 "cells": [
  {
   "cell_type": "markdown",
   "metadata": {},
   "source": [
    "Create a class animal with a method sound() that prints \"Animal makes a sound\".Create a derived class called Dog that inherits \n",
    "from Animal and overrides the sound() method and print \"DOg Barks\".Create another derived class called Bird that inherits from animal and overrides the sound() method to print \"Bird Sings\""
   ]
  },
  {
   "cell_type": "code",
   "execution_count": null,
   "metadata": {},
   "outputs": [],
   "source": [
    "class animal:\n",
    "    def sound(self):\n",
    "        print(\"Animal makes sound\")\n",
    "class Dog(animal):\n",
    "    "
   ]
  },
  {
   "cell_type": "code",
   "execution_count": null,
   "metadata": {},
   "outputs": [],
   "source": []
  },
  {
   "cell_type": "markdown",
   "metadata": {},
   "source": []
  }
 ],
 "metadata": {
  "language_info": {
   "name": "python"
  }
 },
 "nbformat": 4,
 "nbformat_minor": 2
}
