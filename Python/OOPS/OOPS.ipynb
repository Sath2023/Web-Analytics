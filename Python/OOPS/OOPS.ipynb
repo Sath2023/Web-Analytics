{
 "cells": [
  {
   "cell_type": "markdown",
   "metadata": {},
   "source": [
    "Create a class called Student create a variable name and roll number using constructor .\n",
    "Create a function called which should display the roll number and name"
   ]
  },
  {
   "cell_type": "code",
   "execution_count": 2,
   "metadata": {},
   "outputs": [
    {
     "name": "stdout",
     "output_type": "stream",
     "text": [
      "Name is :  Sathvik\n",
      "Roll number is :  20211CBD0040\n",
      "Name is :  Adithya.H.Hegde\n",
      "Roll number is :  20211CBD0027\n"
     ]
    }
   ],
   "source": [
    "class Student:\n",
    "    def __init__(self):\n",
    "        self.name=\"\"\n",
    "        self.rollnumber=\"\"\n",
    "    def display(self):\n",
    "        print(\"Name is : \",self.name)\n",
    "        print(\"Roll number is : \",self.rollnumber)\n",
    "\n",
    "s1 = Student()\n",
    "s1.name = \"Sathvik\"\n",
    "s1.rollnumber = \"20211CBD0040\"\n",
    "\n",
    "s2 = Student()\n",
    "s2.name = \"Adithya.H.Hegde\"\n",
    "s2.rollnumber = \"20211CBD0027\"\n",
    "\n",
    "s1.display()\n",
    "s2.display()"
   ]
  },
  {
   "cell_type": "markdown",
   "metadata": {},
   "source": [
    "Encapsulation"
   ]
  },
  {
   "cell_type": "code",
   "execution_count": 1,
   "metadata": {},
   "outputs": [
    {
     "name": "stdout",
     "output_type": "stream",
     "text": [
      "Google\n"
     ]
    }
   ],
   "source": [
    "class company():\n",
    "    def __init__(self):\n",
    "        self.companyName = \"Google\"\n",
    "c1 = company()\n",
    "print(c1.companyName)"
   ]
  },
  {
   "cell_type": "code",
   "execution_count": 2,
   "metadata": {},
   "outputs": [
    {
     "name": "stdout",
     "output_type": "stream",
     "text": [
      "Facebook\n"
     ]
    }
   ],
   "source": [
    "class company():\n",
    "    def __init__(self):\n",
    "        self.companyName = \"Google\"\n",
    "c1 = company()\n",
    "c1.companyName = \"Facebook\"\n",
    "print(c1.companyName)"
   ]
  }
 ],
 "metadata": {
  "kernelspec": {
   "display_name": "Python 3",
   "language": "python",
   "name": "python3"
  },
  "language_info": {
   "codemirror_mode": {
    "name": "ipython",
    "version": 3
   },
   "file_extension": ".py",
   "mimetype": "text/x-python",
   "name": "python",
   "nbconvert_exporter": "python",
   "pygments_lexer": "ipython3",
   "version": "3.10.13"
  }
 },
 "nbformat": 4,
 "nbformat_minor": 2
}
